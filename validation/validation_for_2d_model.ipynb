{
 "cells": [
  {
   "cell_type": "code",
   "execution_count": 1,
   "metadata": {},
   "outputs": [],
   "source": [
    "from sklearn.model_selection import TimeSeriesSplit\n",
    "import numpy as np\n",
    "import pandas as pd\n",
    "import os\n",
    "import tqdm\n",
    "\n",
    "from IDAO_validator_2d_model import IDAO_validator_2d_model"
   ]
  },
  {
   "cell_type": "code",
   "execution_count": 2,
   "metadata": {},
   "outputs": [],
   "source": [
    "def smape(satellite_predicted_values, satellite_true_values): \n",
    "    # the division, addition and subtraction are pointwise \n",
    "    return np.mean(np.abs((satellite_predicted_values - satellite_true_values) \n",
    "        / (np.abs(satellite_predicted_values) + np.abs(satellite_true_values))))"
   ]
  },
  {
   "cell_type": "code",
   "execution_count": 3,
   "metadata": {},
   "outputs": [],
   "source": [
    "# Загрузка данных\n",
    "# windows\n",
    "PATH_TO_DATA = os.path.join('../data')\n",
    "full_train = pd.read_csv(os.path.join(PATH_TO_DATA, 'train.csv'), index_col='id')\n",
    "full_test = pd.read_csv(os.path.join(PATH_TO_DATA, 'test.csv'), index_col='id')"
   ]
  },
  {
   "cell_type": "code",
   "execution_count": 4,
   "metadata": {},
   "outputs": [],
   "source": [
    "idao_2d_splitter = IDAO_validator_2d_model(5, 5)"
   ]
  },
  {
   "cell_type": "code",
   "execution_count": 5,
   "metadata": {},
   "outputs": [],
   "source": [
    "import lightgbm"
   ]
  },
  {
   "cell_type": "code",
   "execution_count": 6,
   "metadata": {},
   "outputs": [
    {
     "name": "stdout",
     "output_type": "stream",
     "text": [
      "sat_id: 0, fold: 0, target_col: x,                  smape: 0.85068\n",
      "sat_id: 0, fold: 0, target_col: y,                  smape: 0.85312\n",
      "sat_id: 0, fold: 0, target_col: z,                  smape: 0.84829\n",
      "sat_id: 0, fold: 0, target_col: Vx,                  smape: 0.85590\n",
      "sat_id: 0, fold: 0, target_col: Vy,                  smape: 0.82734\n",
      "sat_id: 0, fold: 0, target_col: Vz,                  smape: 0.85745\n",
      "_______________\n",
      "sat_id: 0, fold: 0, target_col: ALL_COLUMNS,                  smape: 0.84880\n",
      "_______________\n"
     ]
    },
    {
     "ename": "KeyboardInterrupt",
     "evalue": "",
     "output_type": "error",
     "traceback": [
      "\u001b[0;31m---------------------------------------------------------------------------\u001b[0m",
      "\u001b[0;31mKeyboardInterrupt\u001b[0m                         Traceback (most recent call last)",
      "\u001b[0;32m<timed exec>\u001b[0m in \u001b[0;36m<module>\u001b[0;34m\u001b[0m\n",
      "\u001b[0;32m~/anaconda3/envs/kaggle/lib/python3.7/site-packages/lightgbm/sklearn.py\u001b[0m in \u001b[0;36mfit\u001b[0;34m(self, X, y, sample_weight, init_score, eval_set, eval_names, eval_sample_weight, eval_init_score, eval_metric, early_stopping_rounds, verbose, feature_name, categorical_feature, callbacks, init_model)\u001b[0m\n\u001b[1;32m    747\u001b[0m                                        \u001b[0mverbose\u001b[0m\u001b[0;34m=\u001b[0m\u001b[0mverbose\u001b[0m\u001b[0;34m,\u001b[0m \u001b[0mfeature_name\u001b[0m\u001b[0;34m=\u001b[0m\u001b[0mfeature_name\u001b[0m\u001b[0;34m,\u001b[0m\u001b[0;34m\u001b[0m\u001b[0;34m\u001b[0m\u001b[0m\n\u001b[1;32m    748\u001b[0m                                        \u001b[0mcategorical_feature\u001b[0m\u001b[0;34m=\u001b[0m\u001b[0mcategorical_feature\u001b[0m\u001b[0;34m,\u001b[0m\u001b[0;34m\u001b[0m\u001b[0;34m\u001b[0m\u001b[0m\n\u001b[0;32m--> 749\u001b[0;31m                                        callbacks=callbacks, init_model=init_model)\n\u001b[0m\u001b[1;32m    750\u001b[0m         \u001b[0;32mreturn\u001b[0m \u001b[0mself\u001b[0m\u001b[0;34m\u001b[0m\u001b[0;34m\u001b[0m\u001b[0m\n\u001b[1;32m    751\u001b[0m \u001b[0;34m\u001b[0m\u001b[0m\n",
      "\u001b[0;32m~/anaconda3/envs/kaggle/lib/python3.7/site-packages/lightgbm/sklearn.py\u001b[0m in \u001b[0;36mfit\u001b[0;34m(self, X, y, sample_weight, init_score, group, eval_set, eval_names, eval_sample_weight, eval_class_weight, eval_init_score, eval_group, eval_metric, early_stopping_rounds, verbose, feature_name, categorical_feature, callbacks, init_model)\u001b[0m\n\u001b[1;32m    605\u001b[0m                               \u001b[0mverbose_eval\u001b[0m\u001b[0;34m=\u001b[0m\u001b[0mverbose\u001b[0m\u001b[0;34m,\u001b[0m \u001b[0mfeature_name\u001b[0m\u001b[0;34m=\u001b[0m\u001b[0mfeature_name\u001b[0m\u001b[0;34m,\u001b[0m\u001b[0;34m\u001b[0m\u001b[0;34m\u001b[0m\u001b[0m\n\u001b[1;32m    606\u001b[0m                               \u001b[0mcategorical_feature\u001b[0m\u001b[0;34m=\u001b[0m\u001b[0mcategorical_feature\u001b[0m\u001b[0;34m,\u001b[0m\u001b[0;34m\u001b[0m\u001b[0;34m\u001b[0m\u001b[0m\n\u001b[0;32m--> 607\u001b[0;31m                               callbacks=callbacks, init_model=init_model)\n\u001b[0m\u001b[1;32m    608\u001b[0m \u001b[0;34m\u001b[0m\u001b[0m\n\u001b[1;32m    609\u001b[0m         \u001b[0;32mif\u001b[0m \u001b[0mevals_result\u001b[0m\u001b[0;34m:\u001b[0m\u001b[0;34m\u001b[0m\u001b[0;34m\u001b[0m\u001b[0m\n",
      "\u001b[0;32m~/anaconda3/envs/kaggle/lib/python3.7/site-packages/lightgbm/engine.py\u001b[0m in \u001b[0;36mtrain\u001b[0;34m(params, train_set, num_boost_round, valid_sets, valid_names, fobj, feval, init_model, feature_name, categorical_feature, early_stopping_rounds, evals_result, verbose_eval, learning_rates, keep_training_booster, callbacks)\u001b[0m\n\u001b[1;32m    247\u001b[0m                                     evaluation_result_list=None))\n\u001b[1;32m    248\u001b[0m \u001b[0;34m\u001b[0m\u001b[0m\n\u001b[0;32m--> 249\u001b[0;31m         \u001b[0mbooster\u001b[0m\u001b[0;34m.\u001b[0m\u001b[0mupdate\u001b[0m\u001b[0;34m(\u001b[0m\u001b[0mfobj\u001b[0m\u001b[0;34m=\u001b[0m\u001b[0mfobj\u001b[0m\u001b[0;34m)\u001b[0m\u001b[0;34m\u001b[0m\u001b[0;34m\u001b[0m\u001b[0m\n\u001b[0m\u001b[1;32m    250\u001b[0m \u001b[0;34m\u001b[0m\u001b[0m\n\u001b[1;32m    251\u001b[0m         \u001b[0mevaluation_result_list\u001b[0m \u001b[0;34m=\u001b[0m \u001b[0;34m[\u001b[0m\u001b[0;34m]\u001b[0m\u001b[0;34m\u001b[0m\u001b[0;34m\u001b[0m\u001b[0m\n",
      "\u001b[0;32m~/anaconda3/envs/kaggle/lib/python3.7/site-packages/lightgbm/basic.py\u001b[0m in \u001b[0;36mupdate\u001b[0;34m(self, train_set, fobj)\u001b[0m\n\u001b[1;32m   1974\u001b[0m             _safe_call(_LIB.LGBM_BoosterUpdateOneIter(\n\u001b[1;32m   1975\u001b[0m                 \u001b[0mself\u001b[0m\u001b[0;34m.\u001b[0m\u001b[0mhandle\u001b[0m\u001b[0;34m,\u001b[0m\u001b[0;34m\u001b[0m\u001b[0;34m\u001b[0m\u001b[0m\n\u001b[0;32m-> 1976\u001b[0;31m                 ctypes.byref(is_finished)))\n\u001b[0m\u001b[1;32m   1977\u001b[0m             \u001b[0mself\u001b[0m\u001b[0;34m.\u001b[0m\u001b[0m__is_predicted_cur_iter\u001b[0m \u001b[0;34m=\u001b[0m \u001b[0;34m[\u001b[0m\u001b[0;32mFalse\u001b[0m \u001b[0;32mfor\u001b[0m \u001b[0m_\u001b[0m \u001b[0;32min\u001b[0m \u001b[0mrange_\u001b[0m\u001b[0;34m(\u001b[0m\u001b[0mself\u001b[0m\u001b[0;34m.\u001b[0m\u001b[0m__num_dataset\u001b[0m\u001b[0;34m)\u001b[0m\u001b[0;34m]\u001b[0m\u001b[0;34m\u001b[0m\u001b[0;34m\u001b[0m\u001b[0m\n\u001b[1;32m   1978\u001b[0m             \u001b[0;32mreturn\u001b[0m \u001b[0mis_finished\u001b[0m\u001b[0;34m.\u001b[0m\u001b[0mvalue\u001b[0m \u001b[0;34m==\u001b[0m \u001b[0;36m1\u001b[0m\u001b[0;34m\u001b[0m\u001b[0;34m\u001b[0m\u001b[0m\n",
      "\u001b[0;31mKeyboardInterrupt\u001b[0m: "
     ]
    }
   ],
   "source": [
    "%%time\n",
    "\n",
    "## колонки, которые не нужны для предсказания\n",
    "columns_to_drop = ['x', 'y', 'z', 'Vx', 'Vy', 'Vz', 'epoch', 'sat_id']\n",
    "\n",
    "## целевые колонки\n",
    "target_columns = ['x', 'y', 'z', 'Vx', 'Vy', 'Vz']\n",
    "\n",
    "## номер фолда для вывода логов\n",
    "n_fold = 0\n",
    "## предыдущий 'sat_id' - опять же для вывода логов - чтобы отслеживать смену объектов (sat_id)\n",
    "prev_sat_id = 0\n",
    "\n",
    "## список из значений smape (на тесте) для каждого из sat_id\n",
    "smape_per_sat_id = []\n",
    "\n",
    "for trn_idxs, tst_idxs in idao_2d_splitter.split(full_train):\n",
    "    \n",
    "    ## для каждого sat_id обновляем n_fold (для логов)\n",
    "    for sat_id in full_train['sat_id'].unique():\n",
    "        ## создаем массив для хранения предсказаний для теста, чтобы посчитать smape\n",
    "        preds = np.zeros((tst_idxs[sat_id, 1] - tst_idxs[sat_id, 0], len(target_columns)))\n",
    "        ## массив для хранения реальных значений целевых переменных для теста\n",
    "        y_true = np.zeros((tst_idxs[sat_id, 1] - tst_idxs[sat_id, 0], len(target_columns)))\n",
    "        ## цикл по целевым колонкам\n",
    "        for i, col in enumerate(target_columns):\n",
    "\n",
    "            lgbm = lightgbm.LGBMRegressor(max_depth=5, learning_rate=0.2, n_estimators=1000, reg_alpha=5e-6,\n",
    "                                          colsample_bytree = 0.85,\n",
    "                                          reg_lambda=5e-4,\n",
    "                                          random_state=13)\n",
    "            X_train = full_train.iloc[trn_idxs[sat_id, 0]:trn_idxs[sat_id, 1]].drop(columns=columns_to_drop).values\n",
    "            y_train = full_train.iloc[trn_idxs[sat_id, 0]:trn_idxs[sat_id, 1]][col].values\n",
    "\n",
    "            X_test = full_train.iloc[tst_idxs[sat_id, 0]:tst_idxs[sat_id, 1]].drop(columns=columns_to_drop).values\n",
    "            y_test = full_train.iloc[tst_idxs[sat_id, 0]:tst_idxs[sat_id, 1]][col].values\n",
    "            if X_test.shape[0] != 0:\n",
    "                lgbm.fit(X_train, y_train)\n",
    "\n",
    "                preds[:, i] += lgbm.predict(X_test)\n",
    "                y_true[:, i] = y_test\n",
    "\n",
    "            ## выводим метрику для каждой целевой колонки отдельно\n",
    "            print(f'sat_id: {sat_id}, fold: {n_fold}, target_col: {col},\\\n",
    "                  smape: {1 - smape(preds[:, i], y_test):.5f}')\n",
    "            \n",
    "        ## выводим метрику для всех целевых колонок сразу (для одного sat_id)\n",
    "        print('_' * 15)\n",
    "        print(f'sat_id: {sat_id}, fold: {n_fold}, target_col: ALL_COLUMNS,\\\n",
    "                  smape: {1 - smape(preds, y_true):.5f}')\n",
    "\n",
    "        smape_per_sat_id.append(smape(preds, y_true))\n",
    "        print('_' * 15)\n",
    "    n_fold += 1"
   ]
  },
  {
   "cell_type": "code",
   "execution_count": 12,
   "metadata": {},
   "outputs": [
    {
     "name": "stdout",
     "output_type": "stream",
     "text": [
      "0.8961579202144785\n"
     ]
    }
   ],
   "source": [
    "print(1 - np.mean(smape_per_sat_id))"
   ]
  },
  {
   "cell_type": "markdown",
   "metadata": {},
   "source": [
    "0.8961579202144785"
   ]
  },
  {
   "cell_type": "code",
   "execution_count": null,
   "metadata": {},
   "outputs": [],
   "source": []
  }
 ],
 "metadata": {
  "kernelspec": {
   "display_name": "Python 3",
   "language": "python",
   "name": "python3"
  },
  "language_info": {
   "codemirror_mode": {
    "name": "ipython",
    "version": 3
   },
   "file_extension": ".py",
   "mimetype": "text/x-python",
   "name": "python",
   "nbconvert_exporter": "python",
   "pygments_lexer": "ipython3",
   "version": "3.7.6"
  }
 },
 "nbformat": 4,
 "nbformat_minor": 2
}
