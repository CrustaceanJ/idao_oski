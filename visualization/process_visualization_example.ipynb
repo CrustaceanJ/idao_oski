{
 "cells": [
  {
   "cell_type": "code",
   "execution_count": 1,
   "metadata": {},
   "outputs": [],
   "source": [
    "import numpy as np\n",
    "import pandas as pd\n",
    "import os\n",
    "import matplotlib.pyplot as plt\n",
    "from datetime import datetime\n",
    "import time\n",
    "from tqdm import tqdm_notebook as tqdm"
   ]
  },
  {
   "cell_type": "code",
   "execution_count": 2,
   "metadata": {},
   "outputs": [],
   "source": [
    "# Загрузка данных\n",
    "PATH_TO_DATA = os.path.join('../data')\n",
    "full_train = pd.read_csv(os.path.join(PATH_TO_DATA, 'train.csv'), index_col='id')\n",
    "full_test = pd.read_csv(os.path.join(PATH_TO_DATA, 'test.csv'), index_col='id')"
   ]
  },
  {
   "cell_type": "code",
   "execution_count": 26,
   "metadata": {},
   "outputs": [],
   "source": [
    "import ipyvolume as ipv\n",
    "import ipyvolume.pylab as p3\n",
    "\n",
    "\n",
    "class processVisualizer:\n",
    "    def __init__(self, train_data, test_data):\n",
    "        \"\"\"\n",
    "            train_data - pandas DataFrame with train data\n",
    "            test_data - pandas DataFrame with test\n",
    "            \n",
    "        \"\"\"\n",
    "        self.train_data = train_data\n",
    "        self.test_data = test_data\n",
    "        self.unique_sat_ids_amount = len(set(train_data['sat_id'].values).union(set(test_data['sat_id'].values)))\n",
    "    \n",
    "    def _prepare_stream(self, mode='train', obj_idxs=None,\n",
    "                        max_time_steps=None, sim=None):\n",
    "        \"\"\"\n",
    "             Вспомогательная функция. Её не нужно будет использовать, поэтому можете не вникать :))\n",
    "        \"\"\"\n",
    "        if mode=='train':\n",
    "            data = self.train_data\n",
    "        else:\n",
    "            data = self.test_data\n",
    "\n",
    "        if sim:\n",
    "            cols = ['x_sim', 'y_sim', 'z_sim', 'Vx_sim', 'Vy_sim', 'Vz_sim']\n",
    "        else:\n",
    "            cols = ['x', 'y', 'z', 'Vx', 'Vy', 'Vz']\n",
    "            \n",
    "        stream = np.zeros((6, max_time_steps, self.unique_sat_ids_amount))\n",
    "                                     \n",
    "        for sat_id in obj_idxs:\n",
    "            sat_id_arr = data[data['sat_id'] == sat_id][cols].values.T\n",
    "            time_steps_amount = sat_id_arr.shape[1]\n",
    "            if time_steps_amount < max_time_steps:\n",
    "                sat_id_arr = np.hstack((sat_id_arr, np.zeros((6, max_time_steps - time_steps_amount))))\n",
    "            for i in range(6):\n",
    "                stream[i, :, sat_id] = sat_id_arr[i]\n",
    "        return stream\n",
    "        \n",
    "    \n",
    "    def visualize_objects(self, train_idxs=None, test_idxs=None,\n",
    "                          max_time_steps=None,\n",
    "                          train_sim=False, test_sim=True,\n",
    "                          train_marker_size=4, test_marker_size=6):\n",
    "        \"\"\"\n",
    "            train_idxs - numpy array из индексов объектов (sat_id) тренировочной выборки,\n",
    "                         которые надо визуализировать. Если  None - берем все объекты\n",
    "                         \n",
    "            test_idxs - numpy array из индексов объектов (sat_id) тренировочной выборки,\n",
    "                         которые надо визуализировать. Если None - берем train_idxs\n",
    "                         \n",
    "            max_time_steps - максимальное количество измерений для одного объекта (sat_id)\n",
    "            \n",
    "            train_sim - если False - используем реальные данные (колонки без приставки sim)\n",
    "            \n",
    "            test_sim - если False - используем реальные (предсказанные) данные \n",
    "            (для этого в датафрейм нужно добавить приставки колонки с предсказаниями без приставки sim,\n",
    "             как в трейне)\n",
    "            \n",
    "        \"\"\"\n",
    "        \n",
    "        ipv.clear()\n",
    "        if train_idxs is None:\n",
    "            train_idxs = np.array(self.train_data['sat_id'].unique())\n",
    "        if test_idxs is None:\n",
    "            test_idxs = train_idxs\n",
    "            \n",
    "        if max_time_steps is None:\n",
    "            max_time_steps_train = self.train_data.groupby('sat_id').count()['epoch'].max()\n",
    "            max_time_steps_test = self.test_data.groupby('sat_id').count()['epoch'].max()\n",
    "            max_time_steps = max(max_time_steps_train, max_time_steps_test)\n",
    "                 \n",
    "        ## подготовка трейна и теста\n",
    "        stream_train = self._prepare_stream('train', train_idxs, max_time_steps, train_sim)\n",
    "        stream_test = self._prepare_stream('test', test_idxs, max_time_steps, test_sim)\n",
    "        \n",
    "        ## визуализация\n",
    "        stream = np.dstack([stream_train[:, :, :], stream_test[:, :, :]])\n",
    "        selected = stream_train.shape[2] + test_idxs\n",
    "        self.q = ipv.quiver(*stream[:, :, :],\n",
    "                           color=\"green\", color_selected='red',\n",
    "                           size=train_marker_size, size_selected=test_marker_size,\n",
    "                           selected=selected)\n",
    "#         ipv.style.use('seaborn-darkgrid')\n",
    "        ipv.animation_control(self.q, interval=200)\n",
    "        ipv.show()"
   ]
  },
  {
   "cell_type": "markdown",
   "metadata": {},
   "source": [
    "##  Пример использования"
   ]
  },
  {
   "cell_type": "code",
   "execution_count": 27,
   "metadata": {},
   "outputs": [],
   "source": [
    "prc_vis = processVisualizer(full_train, full_test)"
   ]
  },
  {
   "cell_type": "markdown",
   "metadata": {},
   "source": [
    "### Зеленые - трейн, красные - тест"
   ]
  },
  {
   "cell_type": "code",
   "execution_count": 33,
   "metadata": {
    "scrolled": false
   },
   "outputs": [
    {
     "data": {
      "application/vnd.jupyter.widget-view+json": {
       "model_id": "95cad44ed8d54d558c70ee481e9d78de",
       "version_major": 2,
       "version_minor": 0
      },
      "text/plain": [
       "VBox(children=(Figure(animation=200.0, camera=PerspectiveCamera(fov=46.0, position=(0.0, 0.0, 2.0), quaternion…"
      ]
     },
     "metadata": {},
     "output_type": "display_data"
    }
   ],
   "source": [
    "prc_vis.visualize_objects(train_idxs=full_test['sat_id'].unique()[:25])"
   ]
  },
  {
   "cell_type": "code",
   "execution_count": null,
   "metadata": {},
   "outputs": [],
   "source": []
  }
 ],
 "metadata": {
  "kernelspec": {
   "display_name": "Python 3",
   "language": "python",
   "name": "python3"
  },
  "language_info": {
   "codemirror_mode": {
    "name": "ipython",
    "version": 3
   },
   "file_extension": ".py",
   "mimetype": "text/x-python",
   "name": "python",
   "nbconvert_exporter": "python",
   "pygments_lexer": "ipython3",
   "version": "3.7.6"
  }
 },
 "nbformat": 4,
 "nbformat_minor": 2
}
