{
 "cells": [
  {
   "cell_type": "code",
   "execution_count": 1,
   "metadata": {},
   "outputs": [],
   "source": [
    "import numpy as np\n",
    "import pandas as pd\n",
    "import matplotlib.pyplot as plt\n",
    "from mpl_toolkits.mplot3d import axes3d\n",
    "\n",
    "\n",
    "from transformer_IDAO import TransformerIDAO\n",
    "from clustering.clustering import Clustering2D\n",
    "from prediction import Model2D\n",
    "from validation.IDAO_validator_2d_model import IDAO_validator_2d_model\n",
    "import importlib\n",
    "\n",
    "%matplotlib inline "
   ]
  },
  {
   "cell_type": "code",
   "execution_count": 2,
   "metadata": {},
   "outputs": [],
   "source": [
    "#full_test = pd.read_csv(\"./data/test.csv\", index_col='id')\n",
    "#full_train = pd.read_csv(\"./data/train.csv\", index_col='id')\n",
    "full_test = pd.read_csv(\"./data/test.csv\", index_col='id')\n",
    "full_train = pd.read_csv(\"./data/train.csv\", index_col='id')\n",
    "\n",
    "transformer = TransformerIDAO()\n",
    "\n",
    "idao_2d_splitter = IDAO_validator_2d_model(5, 5)"
   ]
  },
  {
   "cell_type": "code",
   "execution_count": 3,
   "metadata": {},
   "outputs": [],
   "source": [
    "def smape(satellite_predicted_values, satellite_true_values): \n",
    "    # the division, addition and subtraction are pointwise \n",
    "    return np.mean(np.abs((satellite_predicted_values - satellite_true_values) \n",
    "        / (np.abs(satellite_predicted_values) + np.abs(satellite_true_values))))"
   ]
  },
  {
   "cell_type": "code",
   "execution_count": null,
   "metadata": {},
   "outputs": [
    {
     "name": "stderr",
     "output_type": "stream",
     "text": [
      "/home/paniquex/Documents/idao_oski/transformer_IDAO.py:35: RuntimeWarning: invalid value encountered in true_divide\n",
      "  a /= norm\n",
      "/home/paniquex/Documents/idao_oski/transformer_IDAO.py:36: RuntimeWarning: invalid value encountered in true_divide\n",
      "  b /= norm\n",
      "/home/paniquex/Documents/idao_oski/transformer_IDAO.py:37: RuntimeWarning: invalid value encountered in true_divide\n",
      "  c /= norm\n"
     ]
    },
    {
     "name": "stdout",
     "output_type": "stream",
     "text": [
      "COORDS HAS ENUMERATED\n",
      "fold: 1, target_col: ['x_pred', 'y_pred', 'Vx_pred', 'Vy_pred'],                  smape: 0.13640\n"
     ]
    },
    {
     "name": "stderr",
     "output_type": "stream",
     "text": [
      "/home/paniquex/Documents/idao_oski/transformer_IDAO.py:35: RuntimeWarning: invalid value encountered in true_divide\n",
      "  a /= norm\n",
      "/home/paniquex/Documents/idao_oski/transformer_IDAO.py:36: RuntimeWarning: invalid value encountered in true_divide\n",
      "  b /= norm\n",
      "/home/paniquex/Documents/idao_oski/transformer_IDAO.py:37: RuntimeWarning: invalid value encountered in true_divide\n",
      "  c /= norm\n"
     ]
    },
    {
     "name": "stdout",
     "output_type": "stream",
     "text": [
      "COORDS HAS ENUMERATED\n"
     ]
    }
   ],
   "source": [
    "## список из значений smape (на тесте) для каждого из sat_id\n",
    "smape_per_sat_id = []\n",
    "## номер фолда для вывода логов\n",
    "n_folds = 0\n",
    "\n",
    "\n",
    "## пока проверяю предсказания в 2D!\n",
    "target_columns = ['x_pred', 'y_pred', 'Vx_pred', 'Vy_pred']#, 'Vz_pred']\n",
    "true_columns = ['x', 'y', 'Vx', 'Vy']#, 'Vz']\n",
    "\n",
    "\n",
    "for trn_idxs, tst_idxs in idao_2d_splitter.split(full_train):\n",
    "    train_df = None\n",
    "    test_df = None\n",
    "    for sat_id in full_train['sat_id'].unique():\n",
    "        if train_df is None:\n",
    "            train_df = full_train.iloc[trn_idxs[sat_id, 0]:trn_idxs[sat_id, 1]].copy()\n",
    "        else:\n",
    "            train_df = pd.concat([train_df, full_train.iloc[trn_idxs[sat_id, 0]:trn_idxs[sat_id, 1]]], axis=0).copy()\n",
    "        if test_df is None:\n",
    "            test_df = full_train.iloc[tst_idxs[sat_id, 0]:tst_idxs[sat_id, 1]].copy()\n",
    "        else:\n",
    "            test_df = pd.concat([test_df, full_train.iloc[tst_idxs[sat_id, 0]:tst_idxs[sat_id, 1]]], axis=0).copy()\n",
    "    \n",
    "    transformer.fit_transform(train_df)\n",
    "\n",
    "    clustering1 = Clustering2D('AgglomerativeClustering', 400)\n",
    "    clusters_map = clustering1.fit_predict(transformer.train_coefs)\n",
    "\n",
    "    model = Model2D(10)\n",
    "\n",
    "    test_df = model.predict(train_df.copy(), test_df.copy(), clusters_map)\n",
    "    \n",
    "    test_df['z_pred'] = 0.0\n",
    "    test_df['Vz_pred'] = 0.0\n",
    "    ## так как проверяю предсказания в  2d\n",
    "#     test_df = transformer.inv_transform(test_df)\n",
    "    \n",
    "    n_folds += 1\n",
    "    print(f'fold: {n_folds}, target_col: {target_columns},\\\n",
    "                  smape: {1 - smape(test_df[target_columns].values, test_df[true_columns].values):.5f}')\n"
   ]
  },
  {
   "cell_type": "code",
   "execution_count": null,
   "metadata": {},
   "outputs": [],
   "source": [
    "transformer.fit_transform(full_train)\n",
    "print(full_train.columns)"
   ]
  },
  {
   "cell_type": "code",
   "execution_count": null,
   "metadata": {},
   "outputs": [],
   "source": [
    "clustering1 = Clustering2D('AgglomerativeClustering', 400)\n",
    "clusters_map = clustering1.fit_predict(transformer.train_coefs)"
   ]
  },
  {
   "cell_type": "code",
   "execution_count": null,
   "metadata": {},
   "outputs": [],
   "source": [
    "model = Model2D(WIDTH=10)\n",
    "new_test = model.predict(full_train.copy(), full_test.copy(), clusters_map)"
   ]
  },
  {
   "cell_type": "code",
   "execution_count": null,
   "metadata": {},
   "outputs": [],
   "source": [
    "# new_test['z_pred'] = 0.0\n",
    "# new_test['Vz_pred'] = 0.0\n",
    "# new_test = transformer.inv_transform(new_test)"
   ]
  },
  {
   "cell_type": "code",
   "execution_count": null,
   "metadata": {},
   "outputs": [],
   "source": [
    "full_test = new_test"
   ]
  },
  {
   "cell_type": "code",
   "execution_count": null,
   "metadata": {},
   "outputs": [],
   "source": [
    "# отрисовка нужного рядя для анализа\n",
    "import numpy as np\n",
    "import pandas as pd\n",
    "import lightgbm as lgbm\n",
    "import os\n",
    "import matplotlib.pyplot as plt\n",
    "import plotly.graph_objects as go\n",
    "from plotly.subplots import make_subplots\n",
    "from datetime import datetime\n",
    "import time\n",
    "from sklearn.linear_model import LinearRegression\n",
    "from tqdm import tqdm_notebook as tqdm\n",
    "\n",
    "\n",
    "figure = plt.figure(figsize=(10, 5))\n",
    "\n",
    "\n",
    "sat_id = 32\n",
    "real_col_name = 'x_transformed'\n",
    "sim_col_name = real_col_name + '_sim'\n",
    "pred_col_name = real_col_name + '_pred'\n",
    "\n",
    "fig = go.Figure()\n",
    "fig.add_trace(go.Scatter(x=full_test[full_test.sat_id == sat_id].epoch,\n",
    "                             y=full_test[full_test.sat_id == sat_id]['x_pred'],\n",
    "                             name=\"Estimated \" + real_col_name,\n",
    "                             ))\n",
    "\n",
    "# fig.add_trace(go.Scatter(x=full_test[full_test.sat_id == sat_id].epoch,\n",
    "#                          y=full_test[full_test.sat_id == sat_id][sim_col_name],\n",
    "#                          name=\"Simulation \" + real_col_name,\n",
    "#                          ))\n",
    "\n",
    "# fig.add_trace(go.Scatter(x=full_test[full_test.sat_id == sat_id].epoch,\n",
    "#                          y=full_test[full_test.sat_id == sat_id][sim_col_name],\n",
    "#                          name=\"Sim_test \" + real_col_name,\n",
    "#                          ))\n",
    "fig.add_trace(go.Scatter(x=full_train[full_train.sat_id == sat_id].epoch,\n",
    "                         y=full_train[full_train.sat_id == sat_id][real_col_name],\n",
    "                         name=\"Real \" + real_col_name,\n",
    "                         ))\n",
    "\n",
    "# fig.add_trace(go.Scatter(x=full_train[full_train.sat_id == sat_id].epoch,\n",
    "#                          y=full_train[full_train.sat_id == sat_id][sim_col_name],\n",
    "#                          name=\"Simulation \" + real_col_name,\n",
    "#                          ))\n",
    "\n",
    "fig.update_layout(title_text='Time Series for ' + real_col_name,\n",
    "                  xaxis_rangeslider_visible=True,\n",
    "                  yaxis_title=real_col_name)\n",
    "fig.show()"
   ]
  },
  {
   "cell_type": "code",
   "execution_count": null,
   "metadata": {},
   "outputs": [],
   "source": [
    "full_test"
   ]
  },
  {
   "cell_type": "code",
   "execution_count": null,
   "metadata": {},
   "outputs": [],
   "source": []
  }
 ],
 "metadata": {
  "kernelspec": {
   "display_name": "Python 3",
   "language": "python",
   "name": "python3"
  },
  "language_info": {
   "codemirror_mode": {
    "name": "ipython",
    "version": 3
   },
   "file_extension": ".py",
   "mimetype": "text/x-python",
   "name": "python",
   "nbconvert_exporter": "python",
   "pygments_lexer": "ipython3",
   "version": "3.7.6"
  }
 },
 "nbformat": 4,
 "nbformat_minor": 2
}
