{
 "cells": [
  {
   "cell_type": "code",
   "execution_count": 1,
   "metadata": {},
   "outputs": [],
   "source": [
    "import numpy as np\n",
    "import pandas as pd\n",
    "import matplotlib.pyplot as plt\n",
    "from mpl_toolkits.mplot3d import axes3d\n",
    "\n",
    "\n",
    "from transformer_IDAO import TransformerIDAO\n",
    "from clustering.clustering import Clustering2D\n",
    "\n",
    "\n",
    "%matplotlib inline "
   ]
  },
  {
   "cell_type": "code",
   "execution_count": 2,
   "metadata": {},
   "outputs": [],
   "source": [
    "full_test = pd.read_csv(\"./data/test.csv\", index_col='id')\n",
    "full_train = pd.read_csv(\"./data/train.csv\", index_col='id')\n",
    "\n",
    "transformer = TransformerIDAO()"
   ]
  },
  {
   "cell_type": "code",
   "execution_count": 3,
   "metadata": {},
   "outputs": [
    {
     "name": "stderr",
     "output_type": "stream",
     "text": [
      "/home/paniquex/Documents/idao_oski/transformer_IDAO.py:35: RuntimeWarning: invalid value encountered in true_divide\n",
      "  a /= norm\n",
      "/home/paniquex/Documents/idao_oski/transformer_IDAO.py:36: RuntimeWarning: invalid value encountered in true_divide\n",
      "  b /= norm\n",
      "/home/paniquex/Documents/idao_oski/transformer_IDAO.py:37: RuntimeWarning: invalid value encountered in true_divide\n",
      "  c /= norm\n"
     ]
    },
    {
     "name": "stdout",
     "output_type": "stream",
     "text": [
      "ROTATE\n",
      "Index(['epoch', 'sat_id', 'x', 'y', 'z', 'Vx', 'Vy', 'Vz', 'x_sim', 'y_sim',\n",
      "       'z_sim', 'Vx_sim', 'Vy_sim', 'Vz_sim', 'x_transformed', 'y_transformed',\n",
      "       'z_transformed', 'Vx_transformed', 'Vy_transformed', 'Vz_transformed'],\n",
      "      dtype='object')\n"
     ]
    }
   ],
   "source": [
    "transformer.fit_transform(full_train)\n",
    "print(full_train.columns)"
   ]
  },
  {
   "cell_type": "code",
   "execution_count": 4,
   "metadata": {},
   "outputs": [],
   "source": [
    "clustering1 = Clustering2D('KMeans', 15)\n",
    "clusters_map = clustering1.fit_predict(transformer.train_coefs)"
   ]
  }
 ],
 "metadata": {
  "kernelspec": {
   "display_name": "Python 3",
   "language": "python",
   "name": "python3"
  },
  "language_info": {
   "codemirror_mode": {
    "name": "ipython",
    "version": 3
   },
   "file_extension": ".py",
   "mimetype": "text/x-python",
   "name": "python",
   "nbconvert_exporter": "python",
   "pygments_lexer": "ipython3",
   "version": "3.7.6"
  }
 },
 "nbformat": 4,
 "nbformat_minor": 2
}
